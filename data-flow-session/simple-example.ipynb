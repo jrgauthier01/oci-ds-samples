{
 "cells": [
  {
   "cell_type": "code",
   "execution_count": null,
   "id": "56a2a408",
   "metadata": {},
   "outputs": [],
   "source": [
    "import ads\n",
    "ads.set_auth(\"resource_principal\") # Supported values: resource_principal, api_key"
   ]
  },
  {
   "cell_type": "code",
   "execution_count": null,
   "id": "f0c9c2b7",
   "metadata": {},
   "outputs": [],
   "source": [
    "%load_ext sparkmagic.df_magics"
   ]
  },
  {
   "cell_type": "code",
   "execution_count": null,
   "id": "46fe0022",
   "metadata": {},
   "outputs": [],
   "source": [
    "%help "
   ]
  },
  {
   "cell_type": "markdown",
   "id": "31475da2",
   "metadata": {},
   "source": [
    "## Small Cluster"
   ]
  },
  {
   "cell_type": "code",
   "execution_count": null,
   "id": "4dee1149",
   "metadata": {},
   "outputs": [],
   "source": [
    "%create_session -l python -c '{\"compartmentId\":\"ocid1.compartment.oc1..aaaaaaaalcio324mqxi6egudwmc2wzix3yclcysmmji4cggvnj4b5timvw2q\",\\\n",
    "\"displayName\":\"onboarding-tutorial\",\\\n",
    "\"sparkVersion\":\"3.2.1\", \\\n",
    "\"driverShape\":\"VM.Standard2.1\", \\\n",
    "\"executorShape\":\"VM.Standard2.1\",\"numExecutors\":1}'"
   ]
  },
  {
   "cell_type": "code",
   "execution_count": null,
   "id": "32508f22",
   "metadata": {},
   "outputs": [],
   "source": [
    "%status "
   ]
  },
  {
   "cell_type": "code",
   "execution_count": null,
   "id": "822f8fc7",
   "metadata": {},
   "outputs": [],
   "source": [
    "%config"
   ]
  },
  {
   "cell_type": "code",
   "execution_count": null,
   "id": "32cbd6bb",
   "metadata": {},
   "outputs": [],
   "source": [
    "%%spark \n",
    "print(sc.version)"
   ]
  },
  {
   "cell_type": "code",
   "execution_count": null,
   "id": "7ca25a6a",
   "metadata": {},
   "outputs": [],
   "source": [
    "%%spark\n",
    "\n",
    "titanic = spark.read.csv(\"oci://hosted-ds-datasets@bigdatadatasciencelarge/titanic/titanic.csv\", header=True, inferSchema=True)\n",
    "titanic.show()\n",
    "titanic.createOrReplaceTempView(\"titanic_passengers\")"
   ]
  },
  {
   "cell_type": "code",
   "execution_count": null,
   "id": "aadd8702",
   "metadata": {},
   "outputs": [],
   "source": [
    "%%spark -c sql -o older_passengers\n",
    "SELECT * FROM titanic_passengers WHERE Age > 50.0;"
   ]
  },
  {
   "cell_type": "code",
   "execution_count": null,
   "id": "b9387e75",
   "metadata": {},
   "outputs": [],
   "source": [
    "older_passengers.shape"
   ]
  },
  {
   "cell_type": "code",
   "execution_count": null,
   "id": "cb8ae8b5",
   "metadata": {},
   "outputs": [],
   "source": [
    "type(older_passengers)"
   ]
  },
  {
   "cell_type": "markdown",
   "id": "430b3944",
   "metadata": {},
   "source": [
    "## Larger Cluster"
   ]
  },
  {
   "cell_type": "code",
   "execution_count": null,
   "id": "cb86c21e",
   "metadata": {},
   "outputs": [],
   "source": [
    "# re-size the cluster. \n",
    "%configure_session -f -i '{\"driverShape\": \"VM.Standard2.8\", \"executorShape\": \"VM.Standard2.8\", \"numExecutors\": 32}'"
   ]
  },
  {
   "cell_type": "code",
   "execution_count": null,
   "id": "957da310",
   "metadata": {},
   "outputs": [],
   "source": [
    "%%spark\n",
    "nyc_tlc201 = spark.read.parquet(\"oci://hosted-ds-datasets@bigdatadatasciencelarge/nyc_tlc/201[1,2,3,4,5,6,7,8]/**/data.parquet\", header=False, inferSchema=True)\n",
    "nyc_tlc201.show()\n",
    "nyc_tlc201.createOrReplaceTempView(\"nyc_tlc201\")"
   ]
  },
  {
   "cell_type": "code",
   "execution_count": null,
   "id": "f3d3d1e5",
   "metadata": {},
   "outputs": [],
   "source": [
    "%%spark \n",
    "\n",
    "nyc_tlc201.count()"
   ]
  },
  {
   "cell_type": "code",
   "execution_count": null,
   "id": "37ff90bb",
   "metadata": {},
   "outputs": [],
   "source": [
    "%%spark -c sql -o fare_summary\n",
    "SELECT vendor_id, payment_type, MEAN(fare_amount), MEAN(tip_amount), MAX(fare_amount) \\\n",
    "FROM nyc_tlc201 \\\n",
    "GROUP BY vendor_id, payment_type, passenger_count;"
   ]
  },
  {
   "cell_type": "code",
   "execution_count": null,
   "id": "dcd805dd",
   "metadata": {},
   "outputs": [],
   "source": [
    "%status"
   ]
  },
  {
   "cell_type": "code",
   "execution_count": null,
   "id": "bdfc2d77",
   "metadata": {},
   "outputs": [],
   "source": [
    "type(fare_summary)"
   ]
  },
  {
   "cell_type": "code",
   "execution_count": null,
   "id": "145c9943",
   "metadata": {},
   "outputs": [],
   "source": [
    "fare_summary.head()"
   ]
  },
  {
   "cell_type": "code",
   "execution_count": null,
   "id": "3fb629c0",
   "metadata": {},
   "outputs": [],
   "source": [
    "#%stop_session"
   ]
  }
 ],
 "metadata": {
  "kernelspec": {
   "display_name": "Python [conda env:pyspark30_p37_cpu_v5]",
   "language": "python",
   "name": "conda-env-pyspark30_p37_cpu_v5-py"
  },
  "language_info": {
   "codemirror_mode": {
    "name": "ipython",
    "version": 3
   },
   "file_extension": ".py",
   "mimetype": "text/x-python",
   "name": "python",
   "nbconvert_exporter": "python",
   "pygments_lexer": "ipython3",
   "version": "3.7.12"
  }
 },
 "nbformat": 4,
 "nbformat_minor": 5
}
