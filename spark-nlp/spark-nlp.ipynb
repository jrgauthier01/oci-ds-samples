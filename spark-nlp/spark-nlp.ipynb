{
 "cells": [
  {
   "cell_type": "markdown",
   "id": "1379080b",
   "metadata": {},
   "source": [
    "### OCI Data Science - Useful Tips\n",
    "<details>\n",
    "<summary><font size=\"2\">Check for Public Internet Access</font></summary>\n",
    "\n",
    "```python\n",
    "import requests\n",
    "response = requests.get(\"https://oracle.com\")\n",
    "assert response.status_code==200, \"Internet connection failed\"\n",
    "```\n",
    "</details>\n",
    "<details>\n",
    "<summary><font size=\"2\">Helpful Documentation </font></summary>\n",
    "<ul><li><a href=\"https://docs.cloud.oracle.com/en-us/iaas/data-science/using/data-science.htm\">Data Science Service Documentation</a></li>\n",
    "<li><a href=\"https://docs.cloud.oracle.com/iaas/tools/ads-sdk/latest/index.html\">ADS documentation</a></li>\n",
    "</ul>\n",
    "</details>\n",
    "<details>\n",
    "<summary><font size=\"2\">Typical Cell Imports and Settings for ADS</font></summary>\n",
    "\n",
    "```python\n",
    "%load_ext autoreload\n",
    "%autoreload 2\n",
    "%matplotlib inline\n",
    "\n",
    "import warnings\n",
    "warnings.filterwarnings('ignore')\n",
    "\n",
    "import logging\n",
    "logging.basicConfig(format='%(levelname)s:%(message)s', level=logging.ERROR)\n",
    "\n",
    "import ads\n",
    "from ads.dataset.factory import DatasetFactory\n",
    "from ads.automl.provider import OracleAutoMLProvider\n",
    "from ads.automl.driver import AutoML\n",
    "from ads.evaluations.evaluator import ADSEvaluator\n",
    "from ads.common.data import ADSData\n",
    "from ads.explanations.explainer import ADSExplainer\n",
    "from ads.explanations.mlx_global_explainer import MLXGlobalExplainer\n",
    "from ads.explanations.mlx_local_explainer import MLXLocalExplainer\n",
    "from ads.catalog.model import ModelCatalog\n",
    "from ads.common.model_artifact import ModelArtifact\n",
    "```\n",
    "</details>\n",
    "<details>\n",
    "<summary><font size=\"2\">Useful Environment Variables</font></summary>\n",
    "\n",
    "```python\n",
    "import os\n",
    "print(os.environ[\"NB_SESSION_COMPARTMENT_OCID\"])\n",
    "print(os.environ[\"PROJECT_OCID\"])\n",
    "print(os.environ[\"USER_OCID\"])\n",
    "print(os.environ[\"TENANCY_OCID\"])\n",
    "print(os.environ[\"NB_REGION\"])\n",
    "```\n",
    "</details>"
   ]
  },
  {
   "cell_type": "code",
   "execution_count": null,
   "id": "5f63b5f8",
   "metadata": {},
   "outputs": [],
   "source": [
    "import ads \n",
    "import pyspark \n",
    "ads.set_auth(\"resource_principal\")"
   ]
  },
  {
   "cell_type": "code",
   "execution_count": null,
   "id": "d658d6ac",
   "metadata": {},
   "outputs": [],
   "source": [
    "%load_ext sparkmagic.df_magics"
   ]
  },
  {
   "cell_type": "code",
   "execution_count": null,
   "id": "22355f48",
   "metadata": {},
   "outputs": [],
   "source": [
    "#conda install -c johnsnowlabs spark-nlp"
   ]
  },
  {
   "cell_type": "code",
   "execution_count": null,
   "id": "a7936567",
   "metadata": {},
   "outputs": [],
   "source": [
    "%create_session -l python -c '{\"compartmentId\":\"ocid1.compartment.oc1..aaaaaaaalcio324mqxi6egudwmc2wzix3yclcysmmji4cggvnj4b5timvw2q\", \\\n",
    "\"displayName\":\"spark-nlp-project\",\\\n",
    "\"sparkVersion\":\"3.2.1\", \\\n",
    "\"language\":\"PYTHON\", \\\n",
    "\"type\": \"SESSION\",\\\n",
    "\"driverShape\":\"VM.Standard2.1\", \\\n",
    "\"executorShape\":\"VM.Standard2.1\",\\\n",
    "\"numExecutors\":4,\\\n",
    "\"dataflow.auth\":\"resource_principal\",\\\n",
    "\"configuration\": {\"spark.archives\":\"oci://conda-env-ds@bigdatadatasciencelarge/conda_environments/cpu/pyspark_30_and_data_flow/5.0/pyspark30_p37_cpu_v5#conda\",\\\n",
    "\"spark.jars.ivy\":\"/opt/spark/work-dir/conda/.ivy2\",\\\n",
    "\"spark.jars.packages\": \"com.johnsnowlabs.nlp:spark-nlp_2.12:4.1.0\",\\\n",
    "\"fs.oci.client.custom.authenticator\":\"com.oracle.bmc.hdfs.auth.ResourcePrincipalsCustomAuthenticator\", \\\n",
    "\"spark.jsl.settings.pretrained.cache_folder\": \"oci://conda-env-ds@bigdatadatasciencelarge/cachedmodels/\"}\\\n",
    "}'"
   ]
  },
  {
   "cell_type": "code",
   "execution_count": null,
   "id": "995f501e",
   "metadata": {},
   "outputs": [],
   "source": [
    "%%spark \n",
    "\n",
    "from sparknlp.base import *\n",
    "from sparknlp.annotator import *\n",
    "from sparknlp.pretrained import PretrainedPipeline\n",
    "import sparknlp\n",
    "\n",
    "spark = sparknlp.start()\n",
    "print(sparknlp.version())\n",
    "print(spark.version)\n",
    "\n",
    "from sparknlp.training import CoNLL\n",
    "conll = CoNLL()"
   ]
  },
  {
   "cell_type": "code",
   "execution_count": null,
   "id": "745079d5",
   "metadata": {},
   "outputs": [],
   "source": [
    "%%spark \n",
    "\n",
    "from sparknlp.base import *\n",
    "from sparknlp.annotator import *\n",
    "from sparknlp.pretrained import PretrainedPipeline\n",
    "import sparknlp\n",
    "\n",
    "# Start SparkSession with Spark NLP\n",
    "# start() functions has 3 parameters: gpu, m1, and memory\n",
    "# sparknlp.start(gpu=True) will start the session with GPU support\n",
    "# sparknlp.start(m1=True) will start the session with macOS M1 support\n",
    "# sparknlp.start(memory=\"16G\") to change the default driver memory in SparkSession\n",
    "spark = sparknlp.start()\n",
    "\n",
    "\n",
    "pipeline = PretrainedPipeline('explain_document_dl', lang='en', disk_location=\"/opt/spark/work-dir/conda/pretrained/explain_document_dl_en_3.1.3_3.0_1631046343759/\")\n",
    "#pipeline = PretrainedPipeline.load('oci://sparknlp-models@bigdatadatasciencelarge/')\n",
    "# Your testing dataset\n",
    "text = \"\"\"\n",
    "Lawrence Joseph Ellison (born August 17, 1944) is an American business magnate and investor who is the co-founder, \n",
    "executive chairman, chief technology officer (CTO) and former chief executive officer (CEO) of the \n",
    "American computer technology company Oracle Corporation.[2] As of September 2022, he was listed by \n",
    "Bloomberg Billionaires Index as the ninth-wealthiest person in the world, with an estimated \n",
    "fortune of $93 billion.[3] Ellison is also known for his 98% ownership stake in Lanai, \n",
    "the sixth-largest island in the Hawaiian Archipelago.[4]\n",
    "\"\"\"\n",
    "\n",
    "# Annotate your testing dataset\n",
    "result = pipeline.annotate(text)\n",
    "\n",
    "# What's in the pipeline\n",
    "print(list(result.keys()))\n",
    "\n",
    "# Check the results\n",
    "print(result['entities'])"
   ]
  },
  {
   "cell_type": "code",
   "execution_count": null,
   "id": "39521f46",
   "metadata": {},
   "outputs": [],
   "source": [
    "%%spark\n",
    "import os\n",
    "\n",
    "os.listdir(\"/opt/spark/work-dir/conda/pretrained/explain_document_dl_en_3.1.3_3.0_1631046343759/metadata\")"
   ]
  },
  {
   "cell_type": "code",
   "execution_count": null,
   "id": "b418d11d",
   "metadata": {},
   "outputs": [],
   "source": [
    "%%spark\n",
    "\n",
    "import subprocess\n",
    "subprocess.run([\"df, \"-sh\"])"
   ]
  },
  {
   "cell_type": "code",
   "execution_count": null,
   "id": "55994975",
   "metadata": {},
   "outputs": [],
   "source": []
  },
  {
   "cell_type": "code",
   "execution_count": null,
   "id": "44bf49a5",
   "metadata": {},
   "outputs": [],
   "source": [
    "%stop_session"
   ]
  },
  {
   "cell_type": "code",
   "execution_count": null,
   "id": "7df98550",
   "metadata": {},
   "outputs": [],
   "source": [
    "#pipeline = PretrainedPipeline('explain_document_dl', lang='en', disk_location='oci://sparknlp-models@bigdatadatasciencelarge/')"
   ]
  }
 ],
 "metadata": {
  "kernelspec": {
   "display_name": "Python [conda env:pyspark30_p37_cpu_v5]",
   "language": "python",
   "name": "conda-env-pyspark30_p37_cpu_v5-py"
  },
  "language_info": {
   "codemirror_mode": {
    "name": "ipython",
    "version": 3
   },
   "file_extension": ".py",
   "mimetype": "text/x-python",
   "name": "python",
   "nbconvert_exporter": "python",
   "pygments_lexer": "ipython3",
   "version": "3.7.12"
  }
 },
 "nbformat": 4,
 "nbformat_minor": 5
}
